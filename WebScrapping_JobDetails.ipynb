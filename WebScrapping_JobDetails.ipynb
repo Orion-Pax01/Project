{
  "cells": [
    {
      "cell_type": "code",
      "execution_count": null,
      "id": "9e279bc7-5952-4270-84cd-e6d82b44b594",
      "metadata": {
        "id": "9e279bc7-5952-4270-84cd-e6d82b44b594"
      },
      "outputs": [],
      "source": [
        "# Web Scraping project: Shine\n",
        "# Submitted by: Geetansh Chopra"
      ]
    },
    {
      "cell_type": "code",
      "execution_count": null,
      "id": "f655ff5d-d547-4e83-9006-c1c2f9fddcba",
      "metadata": {
        "id": "f655ff5d-d547-4e83-9006-c1c2f9fddcba"
      },
      "outputs": [],
      "source": [
        "import pandas as pd\n",
        "import numpy as np\n",
        "import selenium\n",
        "from selenium import webdriver\n",
        "from bs4 import BeautifulSoup\n",
        "import time\n",
        "import requests\n",
        "import warnings\n",
        "warnings.filterwarnings('ignore')"
      ]
    },
    {
      "cell_type": "code",
      "execution_count": null,
      "id": "c718a270-0324-47f7-a99b-64ddf21b8637",
      "metadata": {
        "id": "c718a270-0324-47f7-a99b-64ddf21b8637",
        "outputId": "49ad38b7-2478-4798-88c1-c71078121f5a"
      },
      "outputs": [
        {
          "name": "stdout",
          "output_type": "stream",
          "text": [
            "https://www.shine.com/job-search/python-jobs\n"
          ]
        }
      ],
      "source": [
        "# getting url\n",
        "def getUrl(key):\n",
        "    key = key.replace(' ','-')\n",
        "    temp = 'https://www.shine.com/job-search/{}-jobs'\n",
        "    url = temp.format(key)\n",
        "    return url\n",
        "\n",
        "url = getUrl('python')\n",
        "print(url)"
      ]
    },
    {
      "cell_type": "code",
      "execution_count": null,
      "id": "4234a683-3c07-401d-912c-ce149dd92661",
      "metadata": {
        "id": "4234a683-3c07-401d-912c-ce149dd92661"
      },
      "outputs": [],
      "source": [
        "# opening link in browser\n",
        "driver = webdriver.Firefox()\n",
        "driver.get(url)\n",
        "driver.maximize_window()\n",
        "time.sleep(10)"
      ]
    },
    {
      "cell_type": "code",
      "execution_count": null,
      "id": "5d4aecff-1a5a-4339-9ee7-ef88e2352d93",
      "metadata": {
        "id": "5d4aecff-1a5a-4339-9ee7-ef88e2352d93"
      },
      "outputs": [],
      "source": [
        "# create BeautifulSoup obj\n",
        "soup = BeautifulSoup(driver.page_source, \"html.parser\")"
      ]
    },
    {
      "cell_type": "code",
      "execution_count": null,
      "id": "a285f2f8-fc0e-4041-b369-2842a3667464",
      "metadata": {
        "id": "a285f2f8-fc0e-4041-b369-2842a3667464",
        "outputId": "b8c523c3-073f-461a-fb94-15bebf58cb2d"
      },
      "outputs": [
        {
          "name": "stdout",
          "output_type": "stream",
          "text": [
            "19\n"
          ]
        }
      ],
      "source": [
        "#fetching jobcards\n",
        "cards = soup.find_all('div','jobCard_jobCard__jjUmu white-box-border jobCard')\n",
        "print(len(cards))"
      ]
    },
    {
      "cell_type": "code",
      "execution_count": null,
      "id": "38a3e6c8-e971-409b-b0e8-929c88b7f63f",
      "metadata": {
        "id": "38a3e6c8-e971-409b-b0e8-929c88b7f63f"
      },
      "outputs": [],
      "source": [
        "# prototyping model with a single card\n",
        "card = cards[0]"
      ]
    },
    {
      "cell_type": "code",
      "execution_count": null,
      "id": "8d2802e1-9ff2-4876-a556-6e4bff1f9a84",
      "metadata": {
        "id": "8d2802e1-9ff2-4876-a556-6e4bff1f9a84"
      },
      "outputs": [],
      "source": [
        "def find_job(card):\n",
        "    # Fetching job_name\n",
        "    try:\n",
        "        job_name = card.find(\"a\").text\n",
        "    except:\n",
        "        job_name = \"Not Mentioned\"\n",
        "\n",
        "    # Fetching company_name\n",
        "    try:\n",
        "        comp_name = card.find(\"div\", \"jobCard_jobCard_cName__mYnow\").text\n",
        "    except:\n",
        "        comp_name = \"Not Mentioned\"\n",
        "\n",
        "    # Fetching company_location\n",
        "    try:\n",
        "        comp_locn = card.find(\"div\", \"jobCard_jobCard_lists_item__YxRkV jobCard_locationIcon__zrWt2\").text\n",
        "    except:\n",
        "        comp_locn = \"Not Mentioned\"\n",
        "\n",
        "    # Fetching experience_required\n",
        "    try:\n",
        "        exp_req = card.find(\"div\", \"jobCard_jobCard_lists_item__YxRkV jobCard_jobIcon__3FB1t\").text\n",
        "    except:\n",
        "        exp_req = \"Not Mentioned\"\n",
        "\n",
        "     # Fetching job_description\n",
        "    try:\n",
        "        job_desc = card.find(\"ul\", \"jobCard_jobCard_jobDetail__jD82J\").text\n",
        "    except:\n",
        "        job_desc = \"Not Mentioned\"\n",
        "\n",
        "    # Fetching job_apply_url\n",
        "    try:\n",
        "        job_url = card.find(\"a\")\n",
        "        job_url = \"https://www.shine.com\" + job_url[\"href\"]\n",
        "    except:\n",
        "        job_url = \"Not Mentioned\"\n",
        "\n",
        "    all_job_detail = (job_name, comp_name, comp_locn, exp_req, job_desc, job_url)\n",
        "    return all_job_detail"
      ]
    },
    {
      "cell_type": "code",
      "execution_count": null,
      "id": "3a85f51c-6199-45d4-9cf9-b88d3ecde9c7",
      "metadata": {
        "id": "3a85f51c-6199-45d4-9cf9-b88d3ecde9c7",
        "outputId": "9b544d0e-b6e6-4f18-9f4b-9e1e043de22e"
      },
      "outputs": [
        {
          "name": "stdout",
          "output_type": "stream",
          "text": [
            "19\n"
          ]
        }
      ],
      "source": [
        "jobs = []\n",
        "for i in cards:\n",
        "    job_det = find_job(i)\n",
        "    jobs.append(job_det)\n",
        "\n",
        "print(len(jobs))"
      ]
    },
    {
      "cell_type": "code",
      "execution_count": null,
      "id": "3fac43b3-5ff4-4ccc-b0f9-a2bfe7e819d3",
      "metadata": {
        "id": "3fac43b3-5ff4-4ccc-b0f9-a2bfe7e819d3"
      },
      "outputs": [],
      "source": [
        "# saving this data to a csv file\n",
        "cols = ['Job_name', 'Company_name', 'Company_location', 'Experience_required', 'Skills', 'Job_apply_url']\n",
        "foundit_jobs_data = pd.DataFrame(jobs,columns=cols)\n",
        "foundit_jobs_data.to_csv('E:\\\\Shine_WebScrap.csv',encoding='utf-8')"
      ]
    }
  ],
  "metadata": {
    "kernelspec": {
      "display_name": "Python 3 (ipykernel)",
      "language": "python",
      "name": "python3"
    },
    "language_info": {
      "codemirror_mode": {
        "name": "ipython",
        "version": 3
      },
      "file_extension": ".py",
      "mimetype": "text/x-python",
      "name": "python",
      "nbconvert_exporter": "python",
      "pygments_lexer": "ipython3",
      "version": "3.12.0"
    },
    "colab": {
      "provenance": []
    }
  },
  "nbformat": 4,
  "nbformat_minor": 5
}